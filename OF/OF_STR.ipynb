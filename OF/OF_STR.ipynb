{
 "cells": [
  {
   "cell_type": "code",
   "execution_count": 8,
   "id": "148e7b8c",
   "metadata": {},
   "outputs": [],
   "source": [
    "import matplotlib.pyplot as plt\n",
    "import numpy as np"
   ]
  },
  {
   "cell_type": "code",
   "execution_count": 9,
   "id": "6f4f9f19",
   "metadata": {},
   "outputs": [],
   "source": [
    "TB_t=open('TruebeamSTx15X_Open Field - 00_Output Factors.txt', 'r')\n",
    "VB_t=open('VTB15x_Open Field - 00_Output Factors.txt', 'r')"
   ]
  }
 ],
 "metadata": {
  "kernelspec": {
   "display_name": "Python 3",
   "language": "python",
   "name": "python3"
  },
  "language_info": {
   "codemirror_mode": {
    "name": "ipython",
    "version": 3
   },
   "file_extension": ".py",
   "mimetype": "text/x-python",
   "name": "python",
   "nbconvert_exporter": "python",
   "pygments_lexer": "ipython3",
   "version": "3.10.2"
  }
 },
 "nbformat": 4,
 "nbformat_minor": 5
}
